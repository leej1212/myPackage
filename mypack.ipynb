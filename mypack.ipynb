{
  "nbformat": 4,
  "nbformat_minor": 0,
  "metadata": {
    "colab": {
      "provenance": [],
      "authorship_tag": "ABX9TyMifJmvUXQZ+C8+JTbCy1iD",
      "include_colab_link": true
    },
    "kernelspec": {
      "name": "python3",
      "display_name": "Python 3"
    },
    "language_info": {
      "name": "python"
    }
  },
  "cells": [
    {
      "cell_type": "markdown",
      "metadata": {
        "id": "view-in-github",
        "colab_type": "text"
      },
      "source": [
        "<a href=\"https://colab.research.google.com/github/leej1212/myPackage/blob/main/mypack.ipynb\" target=\"_parent\"><img src=\"https://colab.research.google.com/assets/colab-badge.svg\" alt=\"Open In Colab\"/></a>"
      ]
    },
    {
      "cell_type": "code",
      "execution_count": 49,
      "metadata": {
        "colab": {
          "base_uri": "https://localhost:8080/"
        },
        "id": "eKlSdKc1mcDO",
        "outputId": "23f0e432-e6bd-412d-e7ec-90ce7f0c8546"
      },
      "outputs": [
        {
          "output_type": "stream",
          "name": "stdout",
          "text": [
            "Writing mypack/npm.py\n"
          ]
        }
      ],
      "source": [
        "%%writefile mypack/npm.py\n",
        "\n",
        "import numpy as np\n",
        "import pandas as pd\n",
        "import matplotlib.pyplot as plt\n",
        "\n",
        "def hist(file_path, bin): # 히스토그램 제공, csv파일을 읽어 히스토그램을 만든다.\n",
        "  data = pd.read_csv(file_path)\n",
        "\n",
        "  plt.hist(data, label = 'label='+str(bin), bins=int(bin))\n",
        "  plt.legend()\n",
        "  plt.show()\n",
        "\n",
        "def pie(ratio_list, label_list): # 두 리스트를 입력하면, 원 그래프 제공\n",
        "  plt.pie(ratio_list, labels=label_list, autopct='%.1f%%')\n",
        "  plt.show()\n",
        "\n",
        "\n",
        "def bar(a_list, b_list):  # 두 리스트에 관한 막대그래프 제공\n",
        "  a = np.array(a_list)\n",
        "  b = np.array(b_list)\n",
        "  plt.bar(a, b)\n",
        "  plt.show()\n",
        "\n",
        "def plot(x_list, y_list, title_name, lab): # (x리스트, y리스트, 제목, 라벨) 으로 입력시 꺾은 선 그래프를 제공\n",
        "  x = x_list\n",
        "  y = y_list\n",
        "\n",
        "  plt.plot(x, y, linestyle='solid', label= lab)\n",
        "\n",
        "  plt.legend(loc='best')\n",
        "\n",
        "  plt.title(title_name)\n",
        "  plt.show()"
      ]
    },
    {
      "cell_type": "code",
      "source": [
        "%%writefile mypack/encode.py\n",
        "# xor 암호화: xor 연산을 두번 실행하면 원본데이터로 돌아오는 원리를 이용한 암호화\n",
        "import random\n",
        "\n",
        "def en_de(str, key):\n",
        "    en_str = \"\"\n",
        "    for i in range(len(str)):\n",
        "        en_str = en_str + chr(ord(str[i]) ^ ord(key[i % len(key)]))\n",
        "    return en_str\n",
        "\n",
        "def rand_key():\n",
        "  key = ''\n",
        "  for i in range(random.randint(10, 30)):\n",
        "    key += str(random.randint(0,9))\n",
        "  return key"
      ],
      "metadata": {
        "colab": {
          "base_uri": "https://localhost:8080/"
        },
        "id": "o-tdfQFamo7Y",
        "outputId": "9606d274-063d-4199-e638-2bf95096351e"
      },
      "execution_count": 50,
      "outputs": [
        {
          "output_type": "stream",
          "name": "stdout",
          "text": [
            "Writing mypack/encode.py\n"
          ]
        }
      ]
    },
    {
      "cell_type": "code",
      "source": [
        "%%writefile setup.py\n",
        "import setuptools\n",
        "\n",
        "setuptools.setup(\n",
        "    name='myPackage',\n",
        "    version='0.0.1',\n",
        "    description='Provides numpy, pandas, pyplot libraries and encryption function',\n",
        "    author='leej1212',\n",
        "    url='https://github.com/leej1212/myPackage',\n",
        "    download_url='https://github.com/leej1212/myPackage/',\n",
        "    packages=['mypack'],\n",
        "    classifiers=[\n",
        "        'Programming Language :: Python :: 3',\n",
        "    ]\n",
        ")"
      ],
      "metadata": {
        "colab": {
          "base_uri": "https://localhost:8080/"
        },
        "id": "7UyN6q9P3U-A",
        "outputId": "f798a7e5-9461-422a-91a6-05166671b9ea"
      },
      "execution_count": 51,
      "outputs": [
        {
          "output_type": "stream",
          "name": "stdout",
          "text": [
            "Writing setup.py\n"
          ]
        }
      ]
    },
    {
      "cell_type": "code",
      "source": [
        "%%writefile README.md\n",
        "numpy, pandas, matplotlib.pyplot 라이브러리를 제공하여 한꺼번에 유용한 라이브러리를 import 할 수 있다.\n",
        "\n",
        "그리고 아래와 같은 기능을 제공하여 쉽게 그래프를 만들 수 있다.\n",
        "hist(file_path, bin): # 히스토그램 제공, csv파일을 읽어 히스토그램을 만든다.\n",
        "pie(ratio_list, label_list): # 두 리스트를 입력하면, 원 그래프 제공\n",
        "bar(a_list, b_list):  # 두 리스트에 관한 막대그래프 제공\n",
        "plot(x_list, y_list, title_name, lab): # (x리스트, y리스트, 제목, 라벨) 으로 입력시 꺾은 선 그래프를 제공\n",
        "\n",
        "그리고 XOR 암호화 함수를 제공하여 문자를 암호화할 수 있다.\n",
        "ex)\n",
        "a = 'I like pizza.'\n",
        "key = 'wadwdd'\n",
        "encode = en_de(a, key)\n",
        "print('암호화')\n",
        "print(encode)\n",
        "decode = en_de(encode, key) # 한 번더 실행하면 원본을 얻을 수 있다.\n",
        "print('복호화')\n",
        "print(decode)\n",
        "\n",
        "\n",
        "# 랜덤 키 발급도 가능하다.\n",
        "a = 'I like pizza.'\n",
        "key = rand_key() # 랜덤 키 발급\n",
        "encode = en_de(a, key)\n",
        "print('암호화')\n",
        "print(encode)\n",
        "decode = en_de(encode, key)\n",
        "print('복호화')\n",
        "print(decode)"
      ],
      "metadata": {
        "colab": {
          "base_uri": "https://localhost:8080/"
        },
        "id": "OC-ro6u17wZG",
        "outputId": "44543bff-09ec-4683-b716-7283c957dba0"
      },
      "execution_count": 60,
      "outputs": [
        {
          "output_type": "stream",
          "name": "stdout",
          "text": [
            "Writing README.md\n"
          ]
        }
      ]
    },
    {
      "cell_type": "code",
      "source": [
        "%%writefile LICENSE\n",
        "mit"
      ],
      "metadata": {
        "colab": {
          "base_uri": "https://localhost:8080/"
        },
        "id": "rwgaqgdV9Fd7",
        "outputId": "65b50b8a-063f-444e-a879-baf85c3bc070"
      },
      "execution_count": 61,
      "outputs": [
        {
          "output_type": "stream",
          "name": "stdout",
          "text": [
            "Writing LICENSE\n"
          ]
        }
      ]
    },
    {
      "cell_type": "code",
      "source": [],
      "metadata": {
        "id": "Bc2z-5aj9lTl"
      },
      "execution_count": null,
      "outputs": []
    }
  ]
}